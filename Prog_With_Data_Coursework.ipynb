{
  "nbformat": 4,
  "nbformat_minor": 0,
  "metadata": {
    "colab": {
      "provenance": [],
      "authorship_tag": "ABX9TyPb53G3ctbSvtjfmMirr2u1",
      "include_colab_link": true
    },
    "kernelspec": {
      "name": "python3",
      "display_name": "Python 3"
    },
    "language_info": {
      "name": "python"
    }
  },
  "cells": [
    {
      "cell_type": "markdown",
      "metadata": {
        "id": "view-in-github",
        "colab_type": "text"
      },
      "source": [
        "<a href=\"https://colab.research.google.com/github/andrea-mar/Prog_with_data_Coursework/blob/main/Prog_With_Data_Coursework.ipynb\" target=\"_parent\"><img src=\"https://colab.research.google.com/assets/colab-badge.svg\" alt=\"Open In Colab\"/></a>"
      ]
    },
    {
      "cell_type": "code",
      "execution_count": 1,
      "metadata": {
        "colab": {
          "base_uri": "https://localhost:8080/"
        },
        "id": "PWuQfC0mr3mH",
        "outputId": "4ea21eb1-8cc6-422a-bbae-85550edecc98"
      },
      "outputs": [
        {
          "output_type": "stream",
          "name": "stdout",
          "text": [
            "Looking in indexes: https://pypi.org/simple, https://us-python.pkg.dev/colab-wheels/public/simple/\n",
            "Collecting mysql.connector\n",
            "  Downloading mysql-connector-2.2.9.tar.gz (11.9 MB)\n",
            "\u001b[2K     \u001b[90m━━━━━━━━━━━━━━━━━━━━━━━━━━━━━━━━━━━━━━━━\u001b[0m \u001b[32m11.9/11.9 MB\u001b[0m \u001b[31m26.2 MB/s\u001b[0m eta \u001b[36m0:00:00\u001b[0m\n",
            "\u001b[?25h  Preparing metadata (setup.py) ... \u001b[?25l\u001b[?25hdone\n",
            "Building wheels for collected packages: mysql.connector\n",
            "  Building wheel for mysql.connector (setup.py) ... \u001b[?25l\u001b[?25hdone\n",
            "  Created wheel for mysql.connector: filename=mysql_connector-2.2.9-cp39-cp39-linux_x86_64.whl size=247965 sha256=b2054e86eddcf264d65c619323c3f08270360333b8dedb1800f9b1958328ed1f\n",
            "  Stored in directory: /root/.cache/pip/wheels/7b/14/39/5aad423666e827dfe9a1fbcd111ac17171e7c9865d570780ce\n",
            "Successfully built mysql.connector\n",
            "Installing collected packages: mysql.connector\n",
            "Successfully installed mysql.connector-2.2.9\n"
          ]
        }
      ],
      "source": [
        "!pip install mysql.connector"
      ]
    },
    {
      "cell_type": "code",
      "source": [
        "import mysql.connector\n",
        "from mysql.connector import Error"
      ],
      "metadata": {
        "id": "80i6982Z0mvn"
      },
      "execution_count": 18,
      "outputs": []
    },
    {
      "cell_type": "code",
      "source": [
        "\n",
        "def create_server_connection(host_name, user_name, user_password):\n",
        "    connection = None\n",
        "    try:\n",
        "        connection = mysql.connector.connect(\n",
        "            host=host_name,\n",
        "            user=user_name,\n",
        "            passwd=user_password\n",
        "        )\n",
        "        print(\"MySQL Database connection successful\")\n",
        "    except Error as err:\n",
        "        print(f\"Error: '{err}'\")\n",
        "\n",
        "    return connection\n",
        "\n",
        "host = \"34.135.23.207\" # Add here your host IP address from the GCP\n",
        "user = \"root\"\n",
        "password = \"iepure12\" # Add here your password\n",
        "\n",
        "connection = create_server_connection(host, user, password)"
      ],
      "metadata": {
        "id": "XF6yAgor0uy_",
        "colab": {
          "base_uri": "https://localhost:8080/"
        },
        "outputId": "635e47ec-ae66-4333-df30-baf91a5db185"
      },
      "execution_count": 19,
      "outputs": [
        {
          "output_type": "stream",
          "name": "stdout",
          "text": [
            "MySQL Database connection successful\n"
          ]
        }
      ]
    },
    {
      "cell_type": "code",
      "source": [
        "cursor = connection.cursor()\n",
        "cursor.execute(\"SHOW DATABASES;\")\n",
        "\n",
        "for (databases) in cursor:\n",
        "     print(databases[0])\n",
        "     "
      ],
      "metadata": {
        "colab": {
          "base_uri": "https://localhost:8080/"
        },
        "id": "hqRQHadi4qJ-",
        "outputId": "54725e50-f8a6-4b72-836e-70c77472f288"
      },
      "execution_count": 20,
      "outputs": [
        {
          "output_type": "stream",
          "name": "stdout",
          "text": [
            "bytearray(b'fifa_db')\n",
            "bytearray(b'film_db')\n",
            "bytearray(b'information_schema')\n",
            "bytearray(b'movies_db')\n",
            "bytearray(b'music_db')\n",
            "bytearray(b'mysql')\n",
            "bytearray(b'performance_schema')\n",
            "bytearray(b'sys')\n",
            "bytearray(b'university_db')\n"
          ]
        }
      ]
    },
    {
      "cell_type": "code",
      "source": [
        "def create_db_connection(host_name, user_name, user_password, db_name):\n",
        "    connection = None\n",
        "    try:\n",
        "        connection = mysql.connector.connect(\n",
        "            host=host_name,\n",
        "            user=user_name,\n",
        "            passwd=user_password,\n",
        "            database=db_name\n",
        "        )\n",
        "        print(\"MySQL Database connection successful\")\n",
        "    except Error as err:\n",
        "        print(f\"Error: '{err}'\")\n",
        "\n",
        "    return connection"
      ],
      "metadata": {
        "id": "n8fikTYj6YOV"
      },
      "execution_count": 21,
      "outputs": []
    },
    {
      "cell_type": "code",
      "source": [
        "host = \"34.135.23.207\"\n",
        "user = \"root\"\n",
        "password = \"iepure12\"  \n",
        "database = \"fifa_db\"\n",
        "\n",
        "connection = create_db_connection(host, user, password,database)"
      ],
      "metadata": {
        "colab": {
          "base_uri": "https://localhost:8080/"
        },
        "id": "rloY31CC6dkk",
        "outputId": "9bcf80a0-6c94-4208-e8d8-c3e2dde1e70a"
      },
      "execution_count": 22,
      "outputs": [
        {
          "output_type": "stream",
          "name": "stdout",
          "text": [
            "MySQL Database connection successful\n"
          ]
        }
      ]
    },
    {
      "cell_type": "code",
      "source": [
        "cursor = connection.cursor()\n",
        "cursor.execute(\"SHOW TABLES;\")\n",
        "\n",
        "for (databases) in cursor:\n",
        "     print(databases[0])\n",
        "     "
      ],
      "metadata": {
        "colab": {
          "base_uri": "https://localhost:8080/"
        },
        "id": "qcxO8xux6yrr",
        "outputId": "94750903-e793-4c63-cdc3-ad944217dfb4"
      },
      "execution_count": 23,
      "outputs": [
        {
          "output_type": "stream",
          "name": "stdout",
          "text": [
            "bytearray(b'games')\n",
            "bytearray(b'headcoaches')\n",
            "bytearray(b'players')\n",
            "bytearray(b'stadiums')\n",
            "bytearray(b'staff')\n",
            "bytearray(b'teams')\n"
          ]
        }
      ]
    },
    {
      "cell_type": "code",
      "source": [
        "def execute_query(connection, query):\n",
        "    cursor = connection.cursor()\n",
        "    try:\n",
        "        cursor.execute(query)\n",
        "        connection.commit()\n",
        "        print(\"Query successful\")\n",
        "    except Error as err:\n",
        "        print(f\"Error: '{err}'\")\n",
        "     "
      ],
      "metadata": {
        "id": "Uxmq2x52VmbU"
      },
      "execution_count": 24,
      "outputs": []
    },
    {
      "cell_type": "code",
      "source": [
        "def read_query(connection, query):\n",
        "    cursor = connection.cursor()\n",
        "    result = None\n",
        "    try:\n",
        "        cursor.execute(query)\n",
        "        result = cursor.fetchall()\n",
        "        return result\n",
        "    except Error as err:\n",
        "        print(f\"Error: '{err}'\")"
      ],
      "metadata": {
        "id": "CeoQQBOf7qQc"
      },
      "execution_count": 26,
      "outputs": []
    },
    {
      "cell_type": "markdown",
      "source": [
        "4.1 Export data about football players.\n",
        "\n",
        "\n",
        "\n"
      ],
      "metadata": {
        "id": "3Ocgpwg-8nq_"
      }
    },
    {
      "cell_type": "code",
      "source": [
        "def get_player_data(id):\n",
        "  query_data_player = \"\"\"\n",
        "  SELECT * FROM players WHERE player_id={};\n",
        "  \"\"\"\n",
        "  cursor.execute(query_data_player.format(id))\n",
        "\n",
        "  result = cursor.fetchall()\n",
        "  return result[0]\n",
        "\n",
        "\n",
        "player_id = int(input('Player id: '))\n",
        "player_data = get_player_data(player_id)\n",
        "print(f'{player_data[2]} is {player_data[3]} years old and plays for team (id) {player_data[1]}')"
      ],
      "metadata": {
        "colab": {
          "base_uri": "https://localhost:8080/"
        },
        "id": "UmDGm3HwBBYK",
        "outputId": "b3f364df-f4c4-4d80-ffd9-9aab3cca9b46"
      },
      "execution_count": 99,
      "outputs": [
        {
          "output_type": "stream",
          "name": "stdout",
          "text": [
            "Player id: 1\n",
            "Eric Cartman is 5 years old and plays for team (id) 2\n"
          ]
        }
      ]
    },
    {
      "cell_type": "code",
      "source": [
        "def get_player_data(id):\n",
        "  query_data_player = \"\"\"\n",
        "  SELECT player_id, player_name, player_age, team_country\n",
        "  FROM teams, players\n",
        "  WHERE teams.team_id=players.team_id\n",
        "  AND player_id={};\n",
        "  \"\"\"\n",
        "  cursor.execute(query_data_player.format(id))\n",
        "\n",
        "  result = cursor.fetchall()\n",
        "  return result[0]\n",
        "\n",
        "\n",
        "player_id = int(input('Player id: '))\n",
        "player_data = get_player_data(player_id)\n",
        "print(f'{player_data[1]} is {player_data[2]} years old and plays for team {player_data[3]}')"
      ],
      "metadata": {
        "colab": {
          "base_uri": "https://localhost:8080/"
        },
        "id": "_2CeAEgaC4uL",
        "outputId": "071c73e0-7d3a-4643-a2f1-b537cfaf0183"
      },
      "execution_count": 100,
      "outputs": [
        {
          "output_type": "stream",
          "name": "stdout",
          "text": [
            "Player id: 1\n",
            "Eric Cartman is 5 years old and plays for team USA\n"
          ]
        }
      ]
    },
    {
      "cell_type": "markdown",
      "source": [
        "4.2 Export data about head coach managers and their associated teams."
      ],
      "metadata": {
        "id": "ktGHrRcd9Is0"
      }
    },
    {
      "cell_type": "code",
      "source": [
        "def get_headcoach_data(id):\n",
        "  query_data_headcoach = \"\"\"\n",
        "  SELECT headcoach_id, headcoach_name, headcoach_age, team_country\n",
        "  FROM teams, headcoaches\n",
        "  WHERE teams.team_id=headcoaches.team_id\n",
        "  AND headcoach_id={};\n",
        "  \"\"\"\n",
        "  cursor.execute(query_data_headcoach.format(id))\n",
        "\n",
        "  result = cursor.fetchall()\n",
        "  return result[0]\n",
        "\n",
        "\n",
        "headcoach_id = int(input('Headcoach id: '))\n",
        "headcoach_data = get_headcoach_data(headcoach_id)\n",
        "print(f'{headcoach_data[1]} is {headcoach_data[2]} years old and is the headcoach of team {headcoach_data[3]}')"
      ],
      "metadata": {
        "colab": {
          "base_uri": "https://localhost:8080/"
        },
        "id": "27ikONp1NmlV",
        "outputId": "316af0d7-1be7-41e1-d29c-488629a73119"
      },
      "execution_count": 101,
      "outputs": [
        {
          "output_type": "stream",
          "name": "stdout",
          "text": [
            "Headcoach id: 5\n",
            "Terrance Phillip is 44 years old and is the headcoach of team Canada\n"
          ]
        }
      ]
    },
    {
      "cell_type": "markdown",
      "source": [
        "4.3 Export data to show the group of each team. \n"
      ],
      "metadata": {
        "id": "zi0H8dNJ-Z7i"
      }
    },
    {
      "cell_type": "code",
      "source": [
        "def get_team_group_data(id):\n",
        "  query_data_team_group = \"\"\"\n",
        "  SELECT team_id, team_country, team_group\n",
        "  FROM teams\n",
        "  WHERE team_id={};\n",
        "  \"\"\"\n",
        "  cursor.execute(query_data_team_group.format(id))\n",
        "\n",
        "  result = cursor.fetchall()\n",
        "  return result[0]\n",
        "\n",
        "\n",
        "team_id = int(input('team id: '))\n",
        "team_data = get_team_group_data(team_id)\n",
        "print(f'{team_data[1]} plays in group {team_data[2]}')"
      ],
      "metadata": {
        "colab": {
          "base_uri": "https://localhost:8080/"
        },
        "id": "TtP3ez3SPLZN",
        "outputId": "53745fe0-ec52-49af-97cd-39762a981c94"
      },
      "execution_count": 103,
      "outputs": [
        {
          "output_type": "stream",
          "name": "stdout",
          "text": [
            "team id: 1\n",
            "England plays in group A\n"
          ]
        }
      ]
    },
    {
      "cell_type": "markdown",
      "source": [
        "4.4 Export data to show the football stadium for each team game."
      ],
      "metadata": {
        "id": "MhHgnwtz_A5E"
      }
    },
    {
      "cell_type": "code",
      "source": [
        "def get_team_game_stadium(id):\n",
        "  query_data_team_game_stadium = \"\"\"\n",
        "  SELECT game_id, team_country, stadium_id\n",
        "  FROM teams, games\n",
        "  WHERE teams.team_id=games.team_id\n",
        "  AND teams.team_id={};\n",
        "  \"\"\"\n",
        "  cursor.execute(query_data_team_game_stadium.format(id))\n",
        "\n",
        "  result = cursor.fetchall()\n",
        "  return result[0]\n",
        "\n",
        "\n",
        "team_id = int(input('team id: '))\n",
        "team_data = get_team_game_stadium(team_id)\n",
        "print(f'{team_data[1]} will play on stadium {team_data[2]}')"
      ],
      "metadata": {
        "colab": {
          "base_uri": "https://localhost:8080/"
        },
        "id": "56PrOCMSQbBq",
        "outputId": "a6eb9b08-ca4e-407d-8ee3-214c6f4fda31"
      },
      "execution_count": 113,
      "outputs": [
        {
          "output_type": "stream",
          "name": "stdout",
          "text": [
            "team id: 1\n",
            "England will play on stadium 1\n"
          ]
        }
      ]
    },
    {
      "cell_type": "markdown",
      "source": [
        "4.5 Export data to count how many staff members are in the database per team."
      ],
      "metadata": {
        "id": "AAME_yYo__sM"
      }
    },
    {
      "cell_type": "code",
      "source": [
        "def get_team_staff_count(id):\n",
        "  query_data_team_staff_count = \"\"\"\n",
        "  SELECT team_id,\n",
        "  COUNT(staff_id) AS team_staff_count\n",
        "  FROM staff\n",
        "  WHERE team_id={}\n",
        "  GROUP BY team_id;\n",
        "  \"\"\"\n",
        "  cursor.execute(query_data_team_staff_count.format(id))\n",
        "\n",
        "  result = cursor.fetchall()\n",
        "  return result[0]\n",
        "\n",
        "\n",
        "team_id = int(input('team id: '))\n",
        "team_data = get_team_staff_count(team_id)\n",
        "print(f'Team (id) {team_data[0]} has {team_data[1]} staff members')"
      ],
      "metadata": {
        "colab": {
          "base_uri": "https://localhost:8080/"
        },
        "id": "OoePE_gXTKwt",
        "outputId": "e27487f9-4c4e-4caa-bcf6-d3087a4e8312"
      },
      "execution_count": 123,
      "outputs": [
        {
          "output_type": "stream",
          "name": "stdout",
          "text": [
            "team id: 3\n",
            "Team (id) 3 has 1 staff members\n"
          ]
        }
      ]
    }
  ]
}