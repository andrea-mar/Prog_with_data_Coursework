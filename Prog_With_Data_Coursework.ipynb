{
  "nbformat": 4,
  "nbformat_minor": 0,
  "metadata": {
    "colab": {
      "provenance": [],
      "authorship_tag": "ABX9TyNEeXIGDP3HDDbKzDoIYG4t",
      "include_colab_link": true
    },
    "kernelspec": {
      "name": "python3",
      "display_name": "Python 3"
    },
    "language_info": {
      "name": "python"
    }
  },
  "cells": [
    {
      "cell_type": "markdown",
      "metadata": {
        "id": "view-in-github",
        "colab_type": "text"
      },
      "source": [
        "<a href=\"https://colab.research.google.com/github/andrea-mar/Prog_with_data_Coursework/blob/main/Prog_With_Data_Coursework.ipynb\" target=\"_parent\"><img src=\"https://colab.research.google.com/assets/colab-badge.svg\" alt=\"Open In Colab\"/></a>"
      ]
    },
    {
      "cell_type": "code",
      "execution_count": 2,
      "metadata": {
        "colab": {
          "base_uri": "https://localhost:8080/"
        },
        "id": "PWuQfC0mr3mH",
        "outputId": "24d1ea03-b6da-4909-abe8-54b901597acf"
      },
      "outputs": [
        {
          "output_type": "stream",
          "name": "stdout",
          "text": [
            "Looking in indexes: https://pypi.org/simple, https://us-python.pkg.dev/colab-wheels/public/simple/\n",
            "Collecting mysql.connector\n",
            "  Downloading mysql-connector-2.2.9.tar.gz (11.9 MB)\n",
            "\u001b[2K     \u001b[90m━━━━━━━━━━━━━━━━━━━━━━━━━━━━━━━━━━━━━━━━\u001b[0m \u001b[32m11.9/11.9 MB\u001b[0m \u001b[31m40.2 MB/s\u001b[0m eta \u001b[36m0:00:00\u001b[0m\n",
            "\u001b[?25h  Preparing metadata (setup.py) ... \u001b[?25l\u001b[?25hdone\n",
            "Building wheels for collected packages: mysql.connector\n",
            "  Building wheel for mysql.connector (setup.py) ... \u001b[?25l\u001b[?25hdone\n",
            "  Created wheel for mysql.connector: filename=mysql_connector-2.2.9-cp39-cp39-linux_x86_64.whl size=247965 sha256=eed4f2514a9d46397620c120a8071a4798ab895b3e09dc36e38017657334c448\n",
            "  Stored in directory: /root/.cache/pip/wheels/7b/14/39/5aad423666e827dfe9a1fbcd111ac17171e7c9865d570780ce\n",
            "Successfully built mysql.connector\n",
            "Installing collected packages: mysql.connector\n",
            "Successfully installed mysql.connector-2.2.9\n"
          ]
        }
      ],
      "source": [
        "!pip install mysql.connector"
      ]
    },
    {
      "cell_type": "code",
      "source": [
        "import mysql.connector\n",
        "from mysql.connector import Error"
      ],
      "metadata": {
        "id": "80i6982Z0mvn"
      },
      "execution_count": 3,
      "outputs": []
    },
    {
      "cell_type": "code",
      "source": [
        "\n",
        "def create_server_connection(host_name, user_name, user_password):\n",
        "    connection = None\n",
        "    try:\n",
        "        connection = mysql.connector.connect(\n",
        "            host=host_name,\n",
        "            user=user_name,\n",
        "            passwd=user_password\n",
        "        )\n",
        "        print(\"MySQL Database connection successful\")\n",
        "    except Error as err:\n",
        "        print(f\"Error: '{err}'\")\n",
        "\n",
        "    return connection\n",
        "\n",
        "host = \"34.135.23.207\" # Add here your host IP address from the GCP\n",
        "user = \"root\"\n",
        "password = \"iepure12\" # Add here your password\n",
        "\n",
        "connection = create_server_connection(host, user, password)"
      ],
      "metadata": {
        "id": "XF6yAgor0uy_",
        "colab": {
          "base_uri": "https://localhost:8080/"
        },
        "outputId": "41cd6f81-83bc-4a7f-9daf-f8b251e3d979"
      },
      "execution_count": 4,
      "outputs": [
        {
          "output_type": "stream",
          "name": "stdout",
          "text": [
            "MySQL Database connection successful\n"
          ]
        }
      ]
    },
    {
      "cell_type": "code",
      "source": [
        "cursor = connection.cursor()\n",
        "cursor.execute(\"SHOW DATABASES;\")\n",
        "\n",
        "for (databases) in cursor:\n",
        "     print(databases[0])\n",
        "     "
      ],
      "metadata": {
        "colab": {
          "base_uri": "https://localhost:8080/"
        },
        "id": "hqRQHadi4qJ-",
        "outputId": "759b2d42-054c-4556-c87a-2cca1eb3c6ab"
      },
      "execution_count": 5,
      "outputs": [
        {
          "output_type": "stream",
          "name": "stdout",
          "text": [
            "bytearray(b'fifa_db')\n",
            "bytearray(b'film_db')\n",
            "bytearray(b'information_schema')\n",
            "bytearray(b'movies_db')\n",
            "bytearray(b'music_db')\n",
            "bytearray(b'mysql')\n",
            "bytearray(b'performance_schema')\n",
            "bytearray(b'sys')\n",
            "bytearray(b'university_db')\n"
          ]
        }
      ]
    },
    {
      "cell_type": "code",
      "source": [
        "def create_db_connection(host_name, user_name, user_password, db_name):\n",
        "    connection = None\n",
        "    try:\n",
        "        connection = mysql.connector.connect(\n",
        "            host=host_name,\n",
        "            user=user_name,\n",
        "            passwd=user_password,\n",
        "            database=db_name\n",
        "        )\n",
        "        print(\"MySQL Database connection successful\")\n",
        "    except Error as err:\n",
        "        print(f\"Error: '{err}'\")\n",
        "\n",
        "    return connection"
      ],
      "metadata": {
        "id": "n8fikTYj6YOV"
      },
      "execution_count": 6,
      "outputs": []
    },
    {
      "cell_type": "code",
      "source": [
        "host = \"34.135.23.207\"\n",
        "user = \"root\"\n",
        "password = \"iepure12\"  \n",
        "database = \"fifa_db\"\n",
        "\n",
        "connection = create_db_connection(host, user, password,database)"
      ],
      "metadata": {
        "colab": {
          "base_uri": "https://localhost:8080/"
        },
        "id": "rloY31CC6dkk",
        "outputId": "7a25f140-a211-42b3-8cff-c08f95bcaf64"
      },
      "execution_count": 7,
      "outputs": [
        {
          "output_type": "stream",
          "name": "stdout",
          "text": [
            "MySQL Database connection successful\n"
          ]
        }
      ]
    },
    {
      "cell_type": "code",
      "source": [
        "cursor = connection.cursor()\n",
        "cursor.execute(\"SHOW TABLES;\")\n",
        "\n",
        "for (databases) in cursor:\n",
        "     print(databases[0])\n",
        "     "
      ],
      "metadata": {
        "colab": {
          "base_uri": "https://localhost:8080/"
        },
        "id": "qcxO8xux6yrr",
        "outputId": "6e828839-25ed-45e9-ba60-35079103eb11"
      },
      "execution_count": 8,
      "outputs": [
        {
          "output_type": "stream",
          "name": "stdout",
          "text": [
            "bytearray(b'games')\n",
            "bytearray(b'headcoaches')\n",
            "bytearray(b'players')\n",
            "bytearray(b'stadiums')\n",
            "bytearray(b'staff')\n",
            "bytearray(b'teams')\n"
          ]
        }
      ]
    },
    {
      "cell_type": "code",
      "source": [
        "def execute_query(connection, query):\n",
        "    cursor = connection.cursor()\n",
        "    try:\n",
        "        cursor.execute(query)\n",
        "        connection.commit()\n",
        "        print(\"Query successful\")\n",
        "    except Error as err:\n",
        "        print(f\"Error: '{err}'\")\n",
        "     "
      ],
      "metadata": {
        "id": "Uxmq2x52VmbU"
      },
      "execution_count": 9,
      "outputs": []
    },
    {
      "cell_type": "code",
      "source": [
        "def read_query(connection, query):\n",
        "    cursor = connection.cursor()\n",
        "    result = None\n",
        "    try:\n",
        "        cursor.execute(query)\n",
        "        result = cursor.fetchall()\n",
        "        return result\n",
        "    except Error as err:\n",
        "        print(f\"Error: '{err}'\")"
      ],
      "metadata": {
        "id": "CeoQQBOf7qQc"
      },
      "execution_count": 10,
      "outputs": []
    },
    {
      "cell_type": "markdown",
      "source": [
        "4.1 Export data about football players.\n",
        "\n",
        "\n",
        "\n"
      ],
      "metadata": {
        "id": "3Ocgpwg-8nq_"
      }
    },
    {
      "cell_type": "code",
      "source": [
        "def get_player_data1(id):\n",
        "  query_data_player = \"\"\"\n",
        "  SELECT * FROM players WHERE player_id={};\n",
        "  \"\"\"\n",
        "  cursor.execute(query_data_player.format(id))\n",
        "\n",
        "  result = cursor.fetchall()\n",
        "  return result[0]\n",
        "\n",
        "\n",
        "player_id = int(input('Player id: '))\n",
        "player_data = get_player_data1(player_id)\n",
        "print(f'{player_data[2]} is {player_data[3]} years old and plays for team (id) {player_data[1]}')"
      ],
      "metadata": {
        "colab": {
          "base_uri": "https://localhost:8080/"
        },
        "id": "UmDGm3HwBBYK",
        "outputId": "4ee4d735-8a8b-4936-c977-ba74fae89894"
      },
      "execution_count": 12,
      "outputs": [
        {
          "output_type": "stream",
          "name": "stdout",
          "text": [
            "Player id: 2\n",
            "Steve Fry is 42 years old and plays for team (id) 1\n"
          ]
        }
      ]
    },
    {
      "cell_type": "code",
      "source": [
        "def get_player_data2(id):\n",
        "  query_data_player = \"\"\"\n",
        "  SELECT player_id, player_name, player_age, team_country\n",
        "  FROM teams, players\n",
        "  WHERE teams.team_id=players.team_id\n",
        "  AND player_id={};\n",
        "  \"\"\"\n",
        "  cursor.execute(query_data_player.format(id))\n",
        "\n",
        "  result = cursor.fetchall()\n",
        "  return result[0]\n",
        "\n",
        "\n",
        "player_id = int(input('Player id: '))\n",
        "player_data = get_player_data2(player_id)\n",
        "print(f'{player_data[1]} is {player_data[2]} years old and plays for team {player_data[3]}')"
      ],
      "metadata": {
        "id": "_2CeAEgaC4uL",
        "colab": {
          "base_uri": "https://localhost:8080/"
        },
        "outputId": "23ba0281-1e96-44d7-9ee9-79c476016e4e"
      },
      "execution_count": 13,
      "outputs": [
        {
          "output_type": "stream",
          "name": "stdout",
          "text": [
            "Player id: 1\n",
            "Eric Cartman is 5 years old and plays for team USA\n"
          ]
        }
      ]
    },
    {
      "cell_type": "markdown",
      "source": [
        "4.2 Export data about head coach managers and their associated teams."
      ],
      "metadata": {
        "id": "ktGHrRcd9Is0"
      }
    },
    {
      "cell_type": "code",
      "source": [
        "def get_headcoach_data(id):\n",
        "  query_data_headcoach = \"\"\"\n",
        "  SELECT headcoach_id, headcoach_name, headcoach_age, team_country\n",
        "  FROM teams, headcoaches\n",
        "  WHERE teams.team_id=headcoaches.team_id\n",
        "  AND headcoach_id={};\n",
        "  \"\"\"\n",
        "  cursor.execute(query_data_headcoach.format(id))\n",
        "\n",
        "  result = cursor.fetchall()\n",
        "  return result[0]\n",
        "\n",
        "\n",
        "headcoach_id = int(input('Headcoach id: '))\n",
        "headcoach_data = get_headcoach_data(headcoach_id)\n",
        "print(f'{headcoach_data[1]} is {headcoach_data[2]} years old and is the headcoach of team {headcoach_data[3]}')"
      ],
      "metadata": {
        "colab": {
          "base_uri": "https://localhost:8080/"
        },
        "id": "27ikONp1NmlV",
        "outputId": "713e2c22-d2c6-43b0-eb7f-94c398c8d82b"
      },
      "execution_count": 14,
      "outputs": [
        {
          "output_type": "stream",
          "name": "stdout",
          "text": [
            "Headcoach id: 2\n",
            "John Lennon is 24 years old and is the headcoach of team England\n"
          ]
        }
      ]
    },
    {
      "cell_type": "markdown",
      "source": [
        "4.3 Export data to show the group of each team.\n",
        "\n"
      ],
      "metadata": {
        "id": "zi0H8dNJ-Z7i"
      }
    },
    {
      "cell_type": "code",
      "source": [
        "def get_team_group_data(id):\n",
        "  query_data_team_group = \"\"\"\n",
        "  SELECT team_id, team_country, team_group\n",
        "  FROM teams\n",
        "  WHERE team_id={};\n",
        "  \"\"\"\n",
        "  cursor.execute(query_data_team_group.format(id))\n",
        "\n",
        "  result = cursor.fetchall()\n",
        "  return result[0]\n",
        "\n",
        "\n",
        "team_id = int(input('team id: '))\n",
        "team_data = get_team_group_data(team_id)\n",
        "print(f'{team_data[1]} plays in group {team_data[2]}')"
      ],
      "metadata": {
        "colab": {
          "base_uri": "https://localhost:8080/"
        },
        "id": "TtP3ez3SPLZN",
        "outputId": "702937fc-f586-483a-9db1-ff0411382d15"
      },
      "execution_count": 15,
      "outputs": [
        {
          "output_type": "stream",
          "name": "stdout",
          "text": [
            "team id: 3\n",
            "France plays in group B\n"
          ]
        }
      ]
    },
    {
      "cell_type": "markdown",
      "source": [
        "4.4 Export data to show the football stadium for each team game."
      ],
      "metadata": {
        "id": "MhHgnwtz_A5E"
      }
    },
    {
      "cell_type": "code",
      "source": [
        "def get_team_game_stadium(id):\n",
        "  query_data_team_game_stadium = \"\"\"\n",
        "  SELECT game_id, team_country, stadium_id\n",
        "  FROM teams, games\n",
        "  WHERE teams.team_id=games.team_id\n",
        "  AND teams.team_id={};\n",
        "  \"\"\"\n",
        "  cursor.execute(query_data_team_game_stadium.format(id))\n",
        "\n",
        "  result = cursor.fetchall()\n",
        "  return result[0]\n",
        "\n",
        "\n",
        "team_id = int(input('team id: '))\n",
        "team_data = get_team_game_stadium(team_id)\n",
        "print(f'{team_data[1]} will play on stadium {team_data[2]}')"
      ],
      "metadata": {
        "colab": {
          "base_uri": "https://localhost:8080/"
        },
        "id": "56PrOCMSQbBq",
        "outputId": "1705d62f-7be9-4a3b-fe64-918ac907be3b"
      },
      "execution_count": 16,
      "outputs": [
        {
          "output_type": "stream",
          "name": "stdout",
          "text": [
            "team id: 1\n",
            "England will play on stadium 1\n"
          ]
        }
      ]
    },
    {
      "cell_type": "markdown",
      "source": [
        "4.5 Export data to count how many staff members are in the database per team."
      ],
      "metadata": {
        "id": "AAME_yYo__sM"
      }
    },
    {
      "cell_type": "code",
      "source": [
        "def get_team_staff_count(id):\n",
        "  query_data_team_staff_count = \"\"\"\n",
        "  SELECT team_id,\n",
        "  COUNT(staff_id) AS team_staff_count\n",
        "  FROM staff\n",
        "  WHERE team_id={}\n",
        "  GROUP BY team_id;\n",
        "  \"\"\"\n",
        "  cursor.execute(query_data_team_staff_count.format(id))\n",
        "\n",
        "  result = cursor.fetchall()\n",
        "  return result[0]\n",
        "\n",
        "\n",
        "team_id = int(input('team id: '))\n",
        "team_data = get_team_staff_count(team_id)\n",
        "print(f'Team (id) {team_data[0]} has {team_data[1]} staff members')"
      ],
      "metadata": {
        "colab": {
          "base_uri": "https://localhost:8080/"
        },
        "id": "OoePE_gXTKwt",
        "outputId": "b2821747-34ec-402f-fa6b-7770a7fdac77"
      },
      "execution_count": 17,
      "outputs": [
        {
          "output_type": "stream",
          "name": "stdout",
          "text": [
            "team id: 3\n",
            "Team (id) 3 has 1 staff members\n"
          ]
        }
      ]
    },
    {
      "cell_type": "markdown",
      "source": [
        "\n",
        "Ask user which table they would like to query \n",
        "\n",
        "\n"
      ],
      "metadata": {
        "id": "_VQjQeXcJhPr"
      }
    },
    {
      "cell_type": "code",
      "source": [
        "print('Tables: players, headcoaches, groups, stadiums, staff')\n",
        "query_table = input('Which table do you want to query? ').strip().lower()\n",
        "list_queries = ['players', 'headcoaches', 'groups', 'stadiums', 'staff']\n",
        "\n",
        "if query_table not in list_queries:\n",
        "  print('table not available')\n",
        "\n",
        "# 4.1 Export data about football players.\n",
        "elif query_table == 'players':\n",
        "  player_id = int(input('Player id: '))\n",
        "  player_data = get_player_data1(player_id)\n",
        "  print(f'{player_data[2]} is {player_data[3]} years old and plays for team (id) {player_data[1]}')\n",
        "\n",
        "# 4.2 Export data about head coach managers and their associated teams.\n",
        "elif query_table == 'headcoaches':\n",
        "  headcoach_id = int(input('Headcoach id: '))\n",
        "  headcoach_data = get_headcoach_data(headcoach_id)\n",
        "  print(f'{headcoach_data[1]} is {headcoach_data[2]} years old and is the headcoach of team {headcoach_data[3]}')\n",
        "\n",
        "# 4.3 Export data to show the group of each team.\n",
        "elif query_table == 'groups':\n",
        "  team_id = int(input('team id: '))\n",
        "  team_data = get_team_group_data(team_id)\n",
        "  print(f'{team_data[1]} plays in group {team_data[2]}')\n",
        "\n",
        "# 4.4 Export data to show the football stadium for each team game.\n",
        "elif query_table == 'stadiums':\n",
        "  team_id = int(input('team id: '))\n",
        "  team_data = get_team_game_stadium(team_id)\n",
        "  print(f'{team_data[1]} will play on stadium {team_data[2]}')\n",
        "\n",
        "# 4.5 Export data to count how many staff members are in the database per team.\n",
        "elif query_table == 'staff':\n",
        "  team_id = int(input('team id: '))\n",
        "  team_data = get_team_staff_count(team_id)\n",
        "  print(f'Team (id) {team_data[0]} has {team_data[1]} staff members')"
      ],
      "metadata": {
        "colab": {
          "base_uri": "https://localhost:8080/"
        },
        "id": "g6ZOeQ8WJgzk",
        "outputId": "d5e413af-528a-4ae2-fef7-ca2fcdcaa1c3"
      },
      "execution_count": 21,
      "outputs": [
        {
          "output_type": "stream",
          "name": "stdout",
          "text": [
            "Tables: players, headcoaches, groups, stadiums, staff\n",
            "Which table do you want to query? players\n",
            "Player id: 1\n",
            "Eric Cartman is 5 years old and plays for team (id) 2\n"
          ]
        }
      ]
    }
  ]
}